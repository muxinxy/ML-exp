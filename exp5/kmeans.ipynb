{
 "cells": [
  {
   "cell_type": "code",
   "execution_count": 9,
   "metadata": {},
   "outputs": [
    {
     "name": "stdout",
     "output_type": "stream",
     "text": [
      "Succeeded!\n"
     ]
    },
    {
     "data": {
      "image/png": "[encoded data removed]",
      "text/plain": [
       "<Figure size 432x288 with 1 Axes>"
      ]
     },
     "metadata": {
      "needs_background": "light"
     },
     "output_type": "display_data"
    }
   ],
   "source": [
    "import numpy as np\n",
    "import matplotlib.pyplot as plt\n",
    " \n",
    "# 加载数据\n",
    "def loadDataSet(fileName):\n",
    "    data = np.loadtxt(fileName,delimiter='\\t')\n",
    "    return data\n",
    " \n",
    "# 欧氏距离计算\n",
    "def distEclud(x,y):\n",
    "    return np.sqrt(np.sum((x-y)**2))  # 计算欧氏距离\n",
    " \n",
    "# 为给定数据集构建一个包含K个随机质心的集合\n",
    "def randCent(dataSet,k):\n",
    "    m,n = dataSet.shape\n",
    "    centroids = np.zeros((k,n))\n",
    "    for i in range(k):\n",
    "        index = int(np.random.uniform(0,m)) #\n",
    "        centroids[i,:] = dataSet[index,:]\n",
    "    return centroids\n",
    " \n",
    "# k均值聚类\n",
    "def KMeans(dataSet,k):\n",
    " \n",
    "    m = np.shape(dataSet)[0]  #行的数目\n",
    "    # 第一列存样本属于哪一簇\n",
    "    # 第二列存样本的到簇的中心点的误差\n",
    "    clusterAssment = np.mat(np.zeros((m,2)))\n",
    "    clusterChange = True\n",
    " \n",
    "    # 第1步 初始化centroids\n",
    "    centroids = randCent(dataSet,k)\n",
    "    while clusterChange:\n",
    "        clusterChange = False\n",
    " \n",
    "        # 遍历所有的样本（行数）\n",
    "        for i in range(m):\n",
    "            minDist = 100000.0\n",
    "            minIndex = -1\n",
    " \n",
    "            # 遍历所有的质心\n",
    "            #第2步 找出最近的质心\n",
    "            for j in range(k):\n",
    "                # 计算该样本到质心的欧式距离\n",
    "                distance = distEclud(centroids[j,:],dataSet[i,:])\n",
    "                if distance < minDist:\n",
    "                    minDist = distance\n",
    "                    minIndex = j\n",
    "            # 第 3 步：更新每一行样本所属的簇\n",
    "            if clusterAssment[i,0] != minIndex:\n",
    "                clusterChange = True\n",
    "                clusterAssment[i,:] = minIndex,minDist**2\n",
    "        #第 4 步：更新质心\n",
    "        for j in range(k):\n",
    "            pointsInCluster = dataSet[np.nonzero(clusterAssment[:,0].A == j)[0]]  # 获取簇类所有的点\n",
    "            centroids[j,:] = np.mean(pointsInCluster,axis=0)   # 对矩阵的行求均值\n",
    " \n",
    "    print(\"Succeeded!\")\n",
    "    return centroids,clusterAssment\n",
    " \n",
    "def showCluster(dataSet,k,centroids,clusterAssment):\n",
    "    m,n = dataSet.shape\n",
    "    if n != 2:\n",
    "        print(\"Not two-dimensional\")\n",
    "        return 1\n",
    " \n",
    "    mark = ['or', 'ob', 'og', 'ok', '^r', '+r', 'sr', 'dr', '<r', 'pr']\n",
    "    if k > len(mark):\n",
    "        print(\"Too large k\")\n",
    "        return 1\n",
    " \n",
    "    # 绘制所有的样本\n",
    "    for i in range(m):\n",
    "        markIndex = int(clusterAssment[i,0])\n",
    "        plt.plot(dataSet[i,0],dataSet[i,1],mark[markIndex])\n",
    " \n",
    "    mark = ['Dr', 'Db', 'Dg', 'Dk', '^b', '+b', 'sb', 'db', '<b', 'pb']\n",
    "    # 绘制质心\n",
    "    for i in range(k):\n",
    "        plt.plot(centroids[i,0],centroids[i,1],mark[i])\n",
    " \n",
    "    plt.show()\n",
    "if __name__ == '__main__':\n",
    "    dataSet = loadDataSet(\"kmeans_data.txt\")\n",
    "    k = 4\n",
    "    centroids,clusterAssment = KMeans(dataSet,k)\n",
    " \n",
    "    showCluster(dataSet,k,centroids,clusterAssment)"
   ]
  },
  {
   "cell_type": "code",
   "execution_count": null,
   "metadata": {},
   "outputs": [],
   "source": []
  }
 ],
 "metadata": {
  "kernelspec": {
   "display_name": "Python 3",
   "language": "python",
   "name": "python3"
  },
  "language_info": {
   "codemirror_mode": {
    "name": "ipython",
    "version": 3
   },
   "file_extension": ".py",
   "mimetype": "text/x-python",
   "name": "python",
   "nbconvert_exporter": "python",
   "pygments_lexer": "ipython3",
   "version": "3.7.6"
  }
 },
 "nbformat": 4,
 "nbformat_minor": 4
}
