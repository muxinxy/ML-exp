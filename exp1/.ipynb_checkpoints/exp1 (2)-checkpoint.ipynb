{
 "cells": [
  {
   "cell_type": "code",
   "execution_count": 3,
   "metadata": {},
   "outputs": [],
   "source": [
    "# 载入此项目所需要的库\n",
    "import numpy as np\n",
    "import pandas as pd\n",
    "\n",
    "# 载入波士顿房屋的数据集\n",
    "df = pd.read_table('housing_data.txt',header = None,sep=r'\\s+')"
   ]
  },
  {
   "cell_type": "code",
   "execution_count": 4,
   "metadata": {},
   "outputs": [
    {
     "name": "stdout",
     "output_type": "stream",
     "text": [
      "450\n",
      "56\n"
     ]
    }
   ],
   "source": [
    "# 数据集拆分成训练集（前450个样本）和测试集（后56个样本）\n",
    "df_train = df[0:450]\n",
    "df_test = df[450:]\n",
    "print(len(df_train))\n",
    "print(len(df_test))"
   ]
  },
  {
   "cell_type": "code",
   "execution_count": 5,
   "metadata": {},
   "outputs": [
    {
     "name": "stdout",
     "output_type": "stream",
     "text": [
      "系数矩阵w:\n",
      " [[-1.12706397e-01]\n",
      " [ 4.84679322e-02]\n",
      " [ 3.51619982e-02]\n",
      " [ 2.43036682e+00]\n",
      " [-1.71555914e+01]\n",
      " [ 3.92937664e+00]\n",
      " [ 1.05952560e-02]\n",
      " [-1.40598405e+00]\n",
      " [ 3.72316544e-01]\n",
      " [-1.54340774e-02]\n",
      " [-9.03360601e-01]\n",
      " [ 9.74047349e-03]\n",
      " [-5.51630479e-01]]\n",
      "偏置项b: 34.26122511497033\n"
     ]
    }
   ],
   "source": [
    "# 利用多元线性回归模型对训练数据进行拟合，输出系数矩阵和偏置项\n",
    "def fitLM(x, y):\n",
    "    x_0 = np.ones([450,1])\n",
    "    x = np.matrix(np.hstack([x, x_0]))\n",
    "    y = np.matrix(y)\n",
    "    p = ((x.T*x).I*x.T*(y.T))\n",
    "    return p\n",
    "                  \n",
    "    \n",
    "df_train = np.array(df_train)\n",
    "x_data = df_train[:,:13]\n",
    "y_data = df_train[:,13]\n",
    "p = fitLM(x_data,y_data)\n",
    "w = p[:-1]\n",
    "b = p[-1][0,0]\n",
    "\n",
    "print(\"系数矩阵w:\\n\",w)\n",
    "print('偏置项b:',b)"
   ]
  },
  {
   "cell_type": "code",
   "execution_count": 6,
   "metadata": {
    "scrolled": true
   },
   "outputs": [
    {
     "name": "stdout",
     "output_type": "stream",
     "text": [
      "测试集上的均方误差MSE为： 11.40700326882931\n"
     ]
    }
   ],
   "source": [
    "# 对拟合得到的模型在测试集上进行测试，输出测试集上的均方误差\n",
    "df_test = np.array(df_test)\n",
    "x_data = df_test[:,:13]\n",
    "y_data = df_test[:,13]\n",
    "\n",
    "total_error = 0.0\n",
    "for i in range(0,len(x_data)):\n",
    "    total_error += (y_data[i] - (b + (x_data[i,:]*w)[0,0])) ** 2\n",
    "MSE = total_error / len(x_data)\n",
    "\n",
    "print('测试集上的均方误差MSE为：',MSE)\n",
    "print(df_test)"
   ]
  },
  {
   "cell_type": "code",
   "execution_count": null,
   "metadata": {},
   "outputs": [],
   "source": []
  }
 ],
 "metadata": {
  "kernelspec": {
   "display_name": "Python 3",
   "language": "python",
   "name": "python3"
  },
  "language_info": {
   "codemirror_mode": {
    "name": "ipython",
    "version": 3
   },
   "file_extension": ".py",
   "mimetype": "text/x-python",
   "name": "python",
   "nbconvert_exporter": "python",
   "pygments_lexer": "ipython3",
   "version": "3.7.6"
  }
 },
 "nbformat": 4,
 "nbformat_minor": 2
}
