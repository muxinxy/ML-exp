{
 "cells": [
  {
   "cell_type": "code",
   "execution_count": 4,
   "metadata": {},
   "outputs": [
    {
     "name": "stdout",
     "output_type": "stream",
     "text": [
      "[-1.12706397e-01  4.84679322e-02  3.51619982e-02  2.43036682e+00\n",
      " -1.71555914e+01  3.92937664e+00  1.05952560e-02 -1.40598405e+00\n",
      "  3.72316544e-01 -1.54340774e-02 -9.03360601e-01  9.74047349e-03\n",
      " -5.51630479e-01]\n",
      "34.26122511497033\n",
      "11.407003268829309\n",
      "[13.4 15.2 16.1 17.8 14.9 14.1 12.7 13.5 14.9 20.  16.4 17.7 19.5 20.2\n",
      " 21.4 19.9 19.  19.1 19.1 20.1 19.9 19.6 23.2 29.8 13.8 13.3 16.7 12.\n",
      " 14.6 21.4 23.  23.7 25.  21.8 20.6 21.2 19.1 20.6 15.2  7.   8.1 13.6\n",
      " 20.1 21.8 24.5 23.1 19.7 18.3 21.2 17.5 16.8 22.4 20.6 23.9 22.  11.9]\n"
     ]
    }
   ],
   "source": [
    "import numpy as np\n",
    "\n",
    "'''\n",
    "    加载数据集，其中文件中一行为一条数据，前13列为输入变量，最后一列为房价，即输出变量\n",
    "    波士顿房价数据集共506条数据，根据实验要求，前450条数据作为训练集，后56条数据作为测试集\n",
    "'''\n",
    "def loadDataset(filename):\n",
    "    x = []\n",
    "    y = []\n",
    "    with open(filename,'r') as f:\n",
    "        id = 0\n",
    "        for line in f:\n",
    "            ele = line.split()\n",
    "            ele = list(map(float, ele))\n",
    "            x.append(ele[:-1])        #取13个输入变量\n",
    "            x[id].append(1)           #因为将w和b融合为一个整体，故需要在输入变量最后一列添加1\n",
    "            y.append(ele[-1])         #取输出变量\n",
    "            id += 1\n",
    "            \n",
    "    \n",
    "    trainX = x[:-56]\n",
    "    trainY = y[:-56]\n",
    "    testX = x[-56:]\n",
    "    testY = y[-56:]\n",
    "    trainX = np.array(trainX)         #将数组转化为矩阵\n",
    "    trainY = np.array(trainY)\n",
    "    testX = np.array(testX)\n",
    "    testY = np.array(testY)\n",
    "\n",
    "    return trainX,trainY,testX,testY\n",
    "\n",
    "'''\n",
    "    根据最小二乘法求出多元线性回归模型的参数\n",
    "    其中np.dot(x,y)表示矩阵x乘y,np.linalg.inv(x)表示矩阵求逆，\n",
    "    最小二乘法求参数的公式为 (X^T X)^(-1) X^T Y\n",
    "    x为训练数据的输入变量，y为训练数据对应的标记，返回模型的参数\n",
    "'''\n",
    "def train(x,y):\n",
    "    parameter = np.dot(np.dot(np.linalg.inv(np.dot(x.T,x)),x.T),y)\n",
    "    #parameter = parameter.reshape(parameter.shape[0],1)\n",
    "    return parameter\n",
    "\n",
    "\n",
    "'''\n",
    "    获得测试集的预测结果\n",
    "    testX为测试数据的输入变量，parameter为多元线性回归模型的参数，返回预测结果\n",
    "'''\n",
    "def predict(testX,parameter):\n",
    "    #print(str(testX.shape) + \" \" + str(parameter.shape))\n",
    "    pre = np.dot(testX,parameter)\n",
    "    return pre\n",
    "\n",
    "'''\n",
    "    计算模型预测结果的均方误差\n",
    "    testY为测试数据对应的标记，pre为测试数据的预测结果，返回均方误差\n",
    "'''\n",
    "def getMSE(testY,pre): \n",
    "    MSE = 0\n",
    "    for i in range(len(testY)):\n",
    "        MSE += (pre[i]-testY[i])*(pre[i]-testY[i])\n",
    "    MSE /= len(testY)\n",
    "    return MSE\n",
    "\n",
    "if __name__ == '__main__':\n",
    "    filename = './housing_data.txt'\n",
    "    trainX,trainY,testX,testY = loadDataset(filename)\n",
    "    parameter = train(trainX,trainY)\n",
    "    w = parameter[:-1]\n",
    "    bias = parameter[-1]\n",
    "    print(w)          #打印参数矩阵\n",
    "    print(bias)       #打印偏置项\n",
    "    pre = predict(testX,parameter)\n",
    "    print(getMSE(testY,pre))\n",
    "    print(testY)"
   ]
  },
  {
   "cell_type": "markdown",
   "metadata": {},
   "source": []
  }
 ],
 "metadata": {
  "kernelspec": {
   "display_name": "Python 3",
   "language": "python",
   "name": "python3"
  },
  "language_info": {
   "codemirror_mode": {
    "name": "ipython",
    "version": 3
   },
   "file_extension": ".py",
   "mimetype": "text/x-python",
   "name": "python",
   "nbconvert_exporter": "python",
   "pygments_lexer": "ipython3",
   "version": "3.7.6"
  }
 },
 "nbformat": 4,
 "nbformat_minor": 2
}
