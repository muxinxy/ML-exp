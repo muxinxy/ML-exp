{
 "cells": [
  {
   "cell_type": "code",
   "execution_count": 129,
   "metadata": {},
   "outputs": [
    {
     "name": "stdout",
     "output_type": "stream",
     "text": [
      "[[-1.12706397e-01]\n",
      " [ 4.84679322e-02]\n",
      " [ 3.51619982e-02]\n",
      " [ 2.43036682e+00]\n",
      " [-1.71555914e+01]\n",
      " [ 3.92937664e+00]\n",
      " [ 1.05952560e-02]\n",
      " [-1.40598405e+00]\n",
      " [ 3.72316544e-01]\n",
      " [-1.54340774e-02]\n",
      " [-9.03360601e-01]\n",
      " [ 9.74047349e-03]\n",
      " [-5.51630479e-01]]\n",
      "[[34.26122511]]\n",
      "[[11.40700327]]\n"
     ]
    }
   ],
   "source": [
    "import numpy as np\n",
    "import pandas as pd\n",
    "\n",
    "class linear_regression():\n",
    "\n",
    "    def train(x,y):\n",
    "        x_0 = np.ones([450,1])\n",
    "        x = np.matrix(np.hstack([x, x_0]))\n",
    "        y = np.matrix(y)\n",
    "        p = ((x.T*x).I*x.T*(y.T))\n",
    "        return p\n",
    "\n",
    "    def predict(test_X,parameter):\n",
    "        pre = np.dot(test_X,parameter)\n",
    "        return pre\n",
    "    \n",
    "    def getMse(test_Y,predict): \n",
    "        mse = 0\n",
    "        for i in range(len(test_Y)):\n",
    "            mse += (predict[i]-test_Y[i])**2\n",
    "        mse /= len(test_Y)\n",
    "        return mse\n",
    "\n",
    "if __name__ == '__main__':\n",
    "    boston_data=pd.read_table('./housing_data.txt',sep=r'\\s+',header=None)\n",
    "    train=boston_data[0:450]\n",
    "    test=boston_data[450:]\n",
    "    train=np.array(train)\n",
    "    test=np.array(test)\n",
    "    train_X=train[:,:13].copy()\n",
    "    train_Y=train[:,13].copy()\n",
    "    test_Y=test[:,13].copy()\n",
    "    test_X=test[:,:].copy()\n",
    "    test_X[:,13]=1\n",
    "    parameter=linear_regression.train(train_X,train_Y)\n",
    "    w=parameter[:-1]\n",
    "    b=parameter[-1]\n",
    "    predict=linear_regression.predict(test_X,parameter)\n",
    "    mse=linear_regression.getMse(test_Y,predict)\n",
    "    print(w)\n",
    "    print(b)\n",
    "    print(mse)"
   ]
  },
  {
   "cell_type": "code",
   "execution_count": null,
   "metadata": {},
   "outputs": [],
   "source": []
  }
 ],
 "metadata": {
  "kernelspec": {
   "display_name": "Python 3",
   "language": "python",
   "name": "python3"
  },
  "language_info": {
   "codemirror_mode": {
    "name": "ipython",
    "version": 3
   },
   "file_extension": ".py",
   "mimetype": "text/x-python",
   "name": "python",
   "nbconvert_exporter": "python",
   "pygments_lexer": "ipython3",
   "version": "3.7.6"
  }
 },
 "nbformat": 4,
 "nbformat_minor": 4
}
